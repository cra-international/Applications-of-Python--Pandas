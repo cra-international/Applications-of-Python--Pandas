{
 "cells": [
  {
   "cell_type": "markdown",
   "metadata": {},
   "source": [
    "# Pandas Built-in Data Visualization\n",
    "\n",
    "In this notebook, we will learn about pandas built-in capabilities for data visualization! It's built-off of matplotlib, but it baked into pandas for easier usage!  \n"
   ]
  },
  {
   "cell_type": "code",
   "execution_count": null,
   "metadata": {},
   "outputs": [],
   "source": [
    "!pip install matplotlib"
   ]
  },
  {
   "cell_type": "code",
   "execution_count": null,
   "metadata": {},
   "outputs": [],
   "source": [
    "import pandas as pd\n",
    "import matplotlib"
   ]
  },
  {
   "cell_type": "code",
   "execution_count": null,
   "metadata": {},
   "outputs": [],
   "source": [
    "## The Data\n",
    "df = pd.read_csv('country_vaccinations.csv')\n",
    "df.head()"
   ]
  },
  {
   "cell_type": "markdown",
   "metadata": {},
   "source": [
    "First, you need to set up your Jupyter Notebook to display plots with the %matplotlib inline command, which sets up your Jupyter Notebook for displaying the plot in the notebook itself:"
   ]
  },
  {
   "cell_type": "code",
   "execution_count": null,
   "metadata": {},
   "outputs": [],
   "source": [
    "%matplotlib inline"
   ]
  },
  {
   "cell_type": "markdown",
   "metadata": {},
   "source": [
    ".plot() returns a line graph containing data from every row in the DataFrame. You can specify the x-axis and y-axis values manually as followed:\n",
    "\n"
   ]
  },
  {
   "cell_type": "markdown",
   "metadata": {},
   "source": [
    "If you don’t provide a parameter to .plot(), then it creates a line plot with the index on the x-axis and all the numeric columns on the y-axis. "
   ]
  },
  {
   "cell_type": "code",
   "execution_count": null,
   "metadata": {},
   "outputs": [],
   "source": [
    "df.plot()"
   ]
  },
  {
   "cell_type": "code",
   "execution_count": null,
   "metadata": {},
   "outputs": [],
   "source": [
    "#let set index to be date and see all the numeric trend\n",
    "df.set_index('date').plot(title='Covid19 Vaccination',figsize =(10,10))"
   ]
  },
  {
   "cell_type": "markdown",
   "metadata": {},
   "source": [
    "Let's see the number of people that are vaccinated by each date:"
   ]
  },
  {
   "cell_type": "code",
   "execution_count": null,
   "metadata": {},
   "outputs": [],
   "source": [
    "df.plot(x='date',y='people_vaccinated',title='Number of People Vaccinated')"
   ]
  },
  {
   "cell_type": "code",
   "execution_count": null,
   "metadata": {},
   "outputs": [],
   "source": [
    "df.plot(x='date',y='people_vaccinated',title='Number of People Vaccinated',figsize =(10,10))"
   ]
  },
  {
   "cell_type": "markdown",
   "metadata": {},
   "source": [
    "# Pop quiz"
   ]
  },
  {
   "cell_type": "code",
   "execution_count": null,
   "metadata": {},
   "outputs": [],
   "source": [
    "#Practice \n",
    "#Let's look at trend in US"
   ]
  },
  {
   "cell_type": "markdown",
   "metadata": {},
   "source": [
    "What if we want to see what vaccines get used more frequently across countries in each date?"
   ]
  },
  {
   "cell_type": "code",
   "execution_count": null,
   "metadata": {
    "scrolled": true
   },
   "outputs": [],
   "source": [
    "daily_vaccinations_vaccines=pd.pivot_table(df, values='daily_vaccinations',index='date',columns='vaccines')\n",
    "daily_vaccinations_vaccines"
   ]
  },
  {
   "cell_type": "code",
   "execution_count": null,
   "metadata": {},
   "outputs": [],
   "source": [
    "# let's see which vaccines usage trend line across countries in the data\n",
    "daily_vaccinations_vaccines.plot(figsize =(20,20),title='Number of daily vaccination')"
   ]
  },
  {
   "cell_type": "code",
   "execution_count": null,
   "metadata": {},
   "outputs": [],
   "source": [
    "df[df['vaccines']=='CNBG, Sinovac']"
   ]
  },
  {
   "cell_type": "markdown",
   "metadata": {},
   "source": [
    "Since there are so many countries in the data frame, let us just focus on UK, US and China and explora more!"
   ]
  },
  {
   "cell_type": "code",
   "execution_count": null,
   "metadata": {},
   "outputs": [],
   "source": [
    "us_uk_china_canada=df.loc[df.country.isin(['United States','United Kingdom','China','Canada'])]"
   ]
  },
  {
   "cell_type": "markdown",
   "metadata": {},
   "source": [
    "\n",
    "# Plot Types\n",
    "\n",
    ".plot() has several optional parameters. Most notably, the kind parameter accepts eleven different string values and determines which kind of plot you’ll create:\n",
    "\n",
    "- \"area\" is for area plots.\n",
    "\n",
    "- \"bar\" is for vertical bar charts.\n",
    "\n",
    "- \"barh\" is for horizontal bar charts.\n",
    "\n",
    "- \"box\" is for box plots.\n",
    "\n",
    "- \"hexbin\" is for hexbin plots.\n",
    "\n",
    "- \"hist\" is for histograms.\n",
    "\n",
    "- \"kde\" is for kernel density estimate charts.\n",
    "\n",
    "- \"density\" is an alias for \"kde\".\n",
    "\n",
    "- \"line\" is for line graphs.\n",
    "\n",
    "- \"pie\" is for pie charts.\n",
    "\n",
    "- \"scatter\" is for scatter plots.\n"
   ]
  },
  {
   "cell_type": "code",
   "execution_count": null,
   "metadata": {
    "scrolled": true
   },
   "outputs": [],
   "source": [
    "us_uk_china_canada_daily_vaccinations=pd.pivot_table(us_uk_china_canada, values='daily_vaccinations',columns='country' ,index='date')\n",
    "us_uk_china_canada_daily_vaccinations"
   ]
  },
  {
   "cell_type": "markdown",
   "metadata": {},
   "source": [
    "## Bar charts\n"
   ]
  },
  {
   "cell_type": "code",
   "execution_count": null,
   "metadata": {},
   "outputs": [],
   "source": [
    "us_uk_china_canada_daily_vaccinations.plot(kind='bar',figsize =(20,20),title='Number of daily vaccination in USA, UK,Canada and China - Bar Chart')\n"
   ]
  },
  {
   "cell_type": "code",
   "execution_count": null,
   "metadata": {},
   "outputs": [],
   "source": [
    "#we can also create a stacked bar chart\n",
    "us_uk_china_canada_daily_vaccinations.plot(kind='bar',figsize =(20,20),title='Number of daily vaccination in USA, UK and China - Stacked Bar Chart',stacked = True)\n"
   ]
  },
  {
   "cell_type": "markdown",
   "metadata": {},
   "source": [
    "## Area chart\n",
    "\n",
    "An area chart combines the line chart and bar chart to show how one or more groups' numeric values change over the progression of a second variable, typically that of time. An area chart is distinguished from a line chart by the addition of shading between lines and a baseline, like in a bar chart."
   ]
  },
  {
   "cell_type": "code",
   "execution_count": null,
   "metadata": {},
   "outputs": [],
   "source": [
    "us_uk_china_canada_daily_vaccinations.plot(kind='area',figsize =(20,20),title='Number of daily vaccination in USA, UK and China - Area Chart')"
   ]
  },
  {
   "cell_type": "markdown",
   "metadata": {},
   "source": [
    "## BoxPlots\n",
    "\n",
    "The box extends from the Q1 to Q3 quartile values of the data, with a line at the median (Q2). The whiskers extend from the edges of box to show the range of the data. By default, they extend no more than 1.5 * IQR (IQR = Q3 - Q1) from the edges of the box, ending at the farthest data point within that interval. Outliers are plotted as separate dots."
   ]
  },
  {
   "cell_type": "code",
   "execution_count": null,
   "metadata": {},
   "outputs": [],
   "source": [
    "us_uk_china_canada_daily_vaccinations.plot(kind='box',figsize =(20,20),title='Number of daily vaccination in USA, UK and China - Box Plot')"
   ]
  },
  {
   "cell_type": "markdown",
   "metadata": {},
   "source": [
    "# Scatter Plot\n",
    "\n",
    "\n",
    "Scatter plots are used when you want to show the relationship between two variables. Scatter plots are sometimes called correlation plots because they show how two variables are correlated.\n",
    "\n",
    "let's plot the daily vaccination versus the total vaccinations which we are expect to be positively correlated:"
   ]
  },
  {
   "cell_type": "code",
   "execution_count": null,
   "metadata": {},
   "outputs": [],
   "source": [
    "us_uk_china_canada.plot(kind='scatter',x ='daily_vaccinations', y ='total_vaccinations')"
   ]
  },
  {
   "cell_type": "code",
   "execution_count": null,
   "metadata": {},
   "outputs": [],
   "source": []
  }
 ],
 "metadata": {
  "kernelspec": {
   "display_name": "Python 3",
   "language": "python",
   "name": "python3"
  },
  "language_info": {
   "codemirror_mode": {
    "name": "ipython",
    "version": 3
   },
   "file_extension": ".py",
   "mimetype": "text/x-python",
   "name": "python",
   "nbconvert_exporter": "python",
   "pygments_lexer": "ipython3",
   "version": "3.7.3"
  }
 },
 "nbformat": 4,
 "nbformat_minor": 4
}
